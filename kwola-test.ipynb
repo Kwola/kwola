{
 "cells": [
  {
   "cell_type": "code",
   "execution_count": 1,
   "metadata": {},
   "outputs": [],
   "source": [
    "import math, random\n",
    "\n",
    "import gym\n",
    "import numpy as np\n",
    "\n",
    "import torch\n",
    "import torch.nn as nn\n",
    "import torch.optim as optim\n",
    "import torch.autograd as autograd \n",
    "import torch.nn.functional as F\n",
    "import scipy.signal\n",
    "import pandas"
   ]
  },
  {
   "cell_type": "code",
   "execution_count": 2,
   "metadata": {},
   "outputs": [],
   "source": [
    "from IPython.display import clear_output\n",
    "import matplotlib.pyplot as plt\n",
    "%matplotlib inline"
   ]
  },
  {
   "cell_type": "markdown",
   "metadata": {},
   "source": [
    "<h3>Use Cuda</h3>"
   ]
  },
  {
   "cell_type": "code",
   "execution_count": 3,
   "metadata": {},
   "outputs": [],
   "source": [
    "USE_CUDA = torch.cuda.is_available()\n",
    "Variable = lambda *args, **kwargs: autograd.Variable(*args, **kwargs).cuda() if USE_CUDA else autograd.Variable(*args, **kwargs)"
   ]
  },
  {
   "cell_type": "markdown",
   "metadata": {},
   "source": [
    "<h2>Replay Buffer</h2>"
   ]
  },
  {
   "cell_type": "code",
   "execution_count": 4,
   "metadata": {},
   "outputs": [],
   "source": [
    "from collections import deque\n",
    "\n",
    "class ReplayBuffer(object):\n",
    "    def __init__(self, capacity):\n",
    "        self.buffer = deque(maxlen=capacity)\n",
    "        self.current = []\n",
    "    \n",
    "    def push(self, state, action, reward, done):\n",
    "        state      = np.expand_dims(state, 0)\n",
    "        #next_state = np.expand_dims(next_state, 0)\n",
    "            \n",
    "        action_idx = len(self.current)\n",
    "            \n",
    "        memory = [state, action, reward, action_idx, done]\n",
    "            \n",
    "        self.current.append(memory)\n",
    "        \n",
    "        for prevMemory in self.current:\n",
    "            prevMemory[2] += reward * math.pow(gamma, action_idx - prevMemory[3])\n",
    "    \n",
    "    \n",
    "    def startNewSequence(self):\n",
    "        random.shuffle(self.buffer)\n",
    "        \n",
    "        for memoryIndex, memory in enumerate(self.current):\n",
    "#             print(memoryIndex, memory[2])\n",
    "            self.buffer.append(memory)\n",
    "        \n",
    "        self.current = []\n",
    "    \n",
    "    def sample(self, batch_size):\n",
    "        state, action, reward, action_idx, done = zip(*random.sample(self.buffer, batch_size))\n",
    "        return np.concatenate(state), action, reward, action_idx, done\n",
    "    \n",
    "    def __len__(self):\n",
    "        return len(self.buffer)"
   ]
  },
  {
   "cell_type": "markdown",
   "metadata": {},
   "source": [
    "<h2>Cart Pole Environment</h2>"
   ]
  },
  {
   "cell_type": "code",
   "execution_count": null,
   "metadata": {},
   "outputs": [],
   "source": []
  },
  {
   "cell_type": "markdown",
   "metadata": {},
   "source": [
    "<h2>Epsilon greedy exploration</h2>"
   ]
  },
  {
   "cell_type": "code",
   "execution_count": 5,
   "metadata": {},
   "outputs": [],
   "source": [
    "epsilon_start = 1.0\n",
    "epsilon_final = 0.01\n",
    "epsilon_decay = 500\n",
    "\n",
    "epsilon_by_frame = lambda frame_idx: epsilon_final + (epsilon_start - epsilon_final) * math.exp(-1. * frame_idx / epsilon_decay)"
   ]
  },
  {
   "cell_type": "code",
   "execution_count": 6,
   "metadata": {},
   "outputs": [
    {
     "data": {
      "text/plain": [
       "[<matplotlib.lines.Line2D at 0x7f12020afa20>]"
      ]
     },
     "execution_count": 6,
     "metadata": {},
     "output_type": "execute_result"
    },
    {
     "data": {
      "image/png": "[encoded data removed]",
      "text/plain": [
       "<Figure size 432x288 with 1 Axes>"
      ]
     },
     "metadata": {
      "needs_background": "light"
     },
     "output_type": "display_data"
    }
   ],
   "source": [
    "plt.plot([epsilon_by_frame(i) for i in range(10000)])"
   ]
  },
  {
   "cell_type": "markdown",
   "metadata": {},
   "source": [
    "<h2>Deep Q Network</h2>"
   ]
  },
  {
   "cell_type": "code",
   "execution_count": 7,
   "metadata": {},
   "outputs": [],
   "source": [
    "class DQN(nn.Module):\n",
    "    def __init__(self, num_inputs, num_actions):\n",
    "        super(DQN, self).__init__()\n",
    "        \n",
    "        self.layers = nn.Sequential(\n",
    "            nn.Linear(env.observation_space.shape[0], 128),\n",
    "            nn.ReLU(),\n",
    "            nn.Linear(128, 128),\n",
    "            nn.ReLU(),\n",
    "            nn.Linear(128, env.action_space.n)\n",
    "        )\n",
    "        \n",
    "    def forward(self, x):\n",
    "        return self.layers(x)\n",
    "    \n",
    "    def act(self, state, epsilon):\n",
    "        if random.random() > epsilon:\n",
    "            state   = Variable(torch.FloatTensor(state).unsqueeze(0), volatile=True)\n",
    "            q_value = self.forward(state)\n",
    "            action  = q_value.max(1)[1].data[0].item()\n",
    "        else:\n",
    "            action = random.randrange(env.action_space.n)\n",
    "        \n",
    "        return action"
   ]
  },
  {
   "cell_type": "code",
   "execution_count": 8,
   "metadata": {},
   "outputs": [],
   "source": [
    "# model = DQN(env.observation_space.shape[0], env.action_space.n)\n",
    "\n",
    "# if USE_CUDA:\n",
    "#     model = model.cuda()\n",
    "    \n",
    "# optimizer = optim.Adam(model.parameters())\n",
    "\n",
    "# replay_buffer = ReplayBuffer(1000)\n",
    "\n",
    "outWidth = 76\n",
    "outHeight = 51"
   ]
  },
  {
   "cell_type": "markdown",
   "metadata": {},
   "source": [
    "<h2>Computing Temporal Difference Loss</h2>"
   ]
  },
  {
   "cell_type": "code",
   "execution_count": 9,
   "metadata": {},
   "outputs": [],
   "source": [
    "def compute_td_loss(batch_size):\n",
    "    state, action, reward, action_idx, done = replay_buffer.sample(batch_size)\n",
    "\n",
    "    state      = Variable(torch.FloatTensor(np.float32(state)))\n",
    "    #next_state = Variable(torch.FloatTensor(np.float32(next_state)), volatile=True)\n",
    "    action     = Variable(torch.LongTensor(action))\n",
    "    reward     = Variable(torch.FloatTensor(reward))\n",
    "    done       = Variable(torch.FloatTensor(done))\n",
    "\n",
    "    q_values      = model(state)\n",
    "    #next_q_values = model(next_state)\n",
    "\n",
    "    q_values = q_values.reshape([-1, outWidth * outHeight])\n",
    "    #next_q_values = next_q_values.reshape([-1, outWidth * outHeight])\n",
    "\n",
    "    q_value          = q_values.gather(1, action.unsqueeze(1)).squeeze(1)\n",
    "    #next_q_value     = next_q_values.max(1)[0]\n",
    "    \n",
    "    \n",
    "    expected_q_value = reward\n",
    "        \n",
    "    loss = (q_value - Variable(expected_q_value.data)).pow(2).mean()\n",
    "        \n",
    "    optimizer.zero_grad()\n",
    "    loss.backward()\n",
    "    optimizer.step()\n",
    "    \n",
    "    return loss"
   ]
  },
  {
   "cell_type": "code",
   "execution_count": 10,
   "metadata": {},
   "outputs": [],
   "source": [
    "def smooth(values, window):\n",
    "    new_vals = pandas.DataFrame(values).rolling(window=window).mean().to_numpy()\n",
    "    new_vals = new_vals[~np.isnan(new_vals)]\n",
    "    return new_vals\n",
    "    \n",
    "def plot(frame_idx, rewards, losses):\n",
    "    clear_output(True)\n",
    "    plt.figure(figsize=(20,5))\n",
    "    plt.subplot(131)\n",
    "    plt.title('frame %s. reward: %s' % (frame_idx, np.mean(rewards[-10:])))\n",
    "    plt.plot(rewards)\n",
    "    \n",
    "    plt.plot(smooth(rewards, window=7))\n",
    "    plt.subplot(132)\n",
    "    plt.title('loss')\n",
    "    plt.plot(losses)\n",
    "    plt.plot(smooth(losses, window=30))\n",
    "    plt.show()"
   ]
  },
  {
   "cell_type": "markdown",
   "metadata": {},
   "source": [
    "<h2>Training</h2>"
   ]
  },
  {
   "cell_type": "code",
   "execution_count": null,
   "metadata": {},
   "outputs": [],
   "source": []
  },
  {
   "cell_type": "markdown",
   "metadata": {},
   "source": [
    "<p><hr></p>"
   ]
  },
  {
   "cell_type": "markdown",
   "metadata": {},
   "source": [
    "<h1>Atari Environment</h1>"
   ]
  },
  {
   "cell_type": "code",
   "execution_count": 11,
   "metadata": {},
   "outputs": [],
   "source": [
    "from selenium import webdriver\n",
    "from selenium.webdriver.common.keys import Keys\n",
    "import time\n",
    "\n",
    "\n",
    "def startDriver():\n",
    "    global driver\n",
    "\n",
    "    driver = webdriver.Firefox()\n",
    "    driver.get(\"http://localhost:3000/\")\n",
    "    time.sleep(1)\n",
    "\n",
    "    if \"auth0.com\" in driver.current_url:\n",
    "        el=driver.find_element_by_css_selector(\".input-container.email input\")\n",
    "        el.send_keys(\"demo1@swiftlyai.com\")\n",
    "        el=driver.find_element_by_css_selector(\".input-container.password input\")\n",
    "        el.send_keys(\"demoaccount1$\")\n",
    "        el=driver.find_element_by_css_selector(\".ulp-button.ulp-button-default\")\n",
    "        el.click()\n",
    "        time.sleep(3)\n",
    "\n",
    "\n",
    "def clickAtPos(x, y):\n",
    "    global driver\n",
    "    el=driver.find_element_by_css_selector(\"html\")\n",
    "    action = webdriver.common.action_chains.ActionChains(driver)\n",
    "#     action.move_to_element_with_offset(el, x, y + 835)\n",
    "\n",
    "#     action.move_to_element_with_offset(el, x, y + 835)\n",
    "#     action.move_to_element_with_offset(el, x, y + 780)\n",
    "    action.move_to_element_with_offset(el, x, y)\n",
    "    action.click()\n",
    "    action.perform()\n",
    "\n",
    "#     time.sleep(0.5)"
   ]
  },
  {
   "cell_type": "code",
   "execution_count": 12,
   "metadata": {},
   "outputs": [],
   "source": [
    "from common.wrappers import make_atari, wrap_deepmind, wrap_pytorch"
   ]
  },
  {
   "cell_type": "code",
   "execution_count": null,
   "metadata": {},
   "outputs": [],
   "source": []
  },
  {
   "cell_type": "code",
   "execution_count": 13,
   "metadata": {},
   "outputs": [],
   "source": [
    "class CnnDQN(nn.Module):\n",
    "    def __init__(self, input_shape):\n",
    "        super(CnnDQN, self).__init__()\n",
    "        \n",
    "        self.input_shape = input_shape\n",
    "        \n",
    "        self.features = nn.Sequential(\n",
    "            nn.Conv2d(input_shape[0], 32, kernel_size=8, stride=4),\n",
    "            nn.ReLU(),\n",
    "            nn.Conv2d(32, 64, kernel_size=4, stride=2),\n",
    "            nn.ReLU(),\n",
    "            nn.Conv2d(64, 128, kernel_size=3, stride=1),\n",
    "            nn.ReLU(),\n",
    "            nn.Conv2d(128, 1, kernel_size=1, stride=1)\n",
    "        )\n",
    "        \n",
    "        self.rect = driver.get_window_rect()\n",
    "        \n",
    "        \n",
    "        \n",
    "#         self.fc = nn.Sequential(\n",
    "#             nn.Linear(self.feature_size(), 512),\n",
    "#             nn.ReLU(),\n",
    "#             nn.Linear(512, self.num_actions)\n",
    "#         )\n",
    "\n",
    "            \n",
    "        self.outWidth = 76\n",
    "        self.outHeight = 51\n",
    "        \n",
    "    def forward(self, x):\n",
    "        x = self.features(x)\n",
    "#         x = x.view(x.size(0), -1)\n",
    "#         x = self.fc(x)\n",
    "        return x\n",
    "    \n",
    "    def feature_size(self):\n",
    "        return self.features(autograd.Variable(torch.zeros(1, *self.input_shape))).view(1, -1).size(1)\n",
    "    \n",
    "    def act(self, state, epsilon):\n",
    "        if random.random() > epsilon:\n",
    "            state   = Variable(torch.FloatTensor(np.float32(state)).unsqueeze(0), volatile=True)\n",
    "            q_value = self.forward(state)\n",
    "            \n",
    "            action_index = q_value.reshape([-1, self.outWidth * self.outHeight]).argmax(1).data[0]\n",
    "            \n",
    "            action_x = int(action_index / self.outHeight) \n",
    "            action_y = int(action_index % self.outHeight)\n",
    "            \n",
    "            return action_index, [int(action_x / self.outWidth * self.rect['width']), int(action_y / self.outHeight * self.rect['height'])]\n",
    "        else:\n",
    "            action_x = random.randrange(self.outWidth) \n",
    "            action_y = random.randrange(self.outHeight) \n",
    "            \n",
    "            action_index = action_x * self.outHeight + action_y\n",
    "             \n",
    "            return action_index, [int(action_x / self.outWidth * self.rect['width']), int(action_y / self.outHeight * self.rect['height'])]\n",
    "        return action"
   ]
  },
  {
   "cell_type": "code",
   "execution_count": 14,
   "metadata": {},
   "outputs": [],
   "source": [
    "import os.path\n",
    "\n",
    "startDriver()\n",
    "\n",
    "rect = driver.get_window_rect()\n",
    "\n",
    "model = CnnDQN([3, rect['height'], rect['width']])\n",
    "\n",
    "if USE_CUDA:\n",
    "    model = model.cuda()\n",
    "    \n",
    "optimizer = optim.Adam(model.parameters(), lr=0.0001)\n",
    "\n",
    "replay_initial = 400\n",
    "replay_buffer = ReplayBuffer(600)\n",
    "\n",
    "\n",
    "if os.path.exists(\"/home/bradley/model_test\"):\n",
    "    model.load_state_dict(torch.load(\"/home/bradley/model_test\"))\n"
   ]
  },
  {
   "cell_type": "code",
   "execution_count": 15,
   "metadata": {},
   "outputs": [],
   "source": [
    "epsilon_start = 1.0\n",
    "epsilon_final = 0.01\n",
    "epsilon_decay = 10000\n",
    "\n",
    "epsilon_by_frame = lambda frame_idx: epsilon_final + (epsilon_start - epsilon_final) * math.exp(-1. * frame_idx / epsilon_decay)"
   ]
  },
  {
   "cell_type": "code",
   "execution_count": 16,
   "metadata": {
    "scrolled": true
   },
   "outputs": [
    {
     "data": {
      "text/plain": [
       "[<matplotlib.lines.Line2D at 0x7f11e6fa1630>]"
      ]
     },
     "execution_count": 16,
     "metadata": {},
     "output_type": "execute_result"
    },
    {
     "data": {
      "image/png": "[encoded data removed]",
      "text/plain": [
       "<Figure size 432x288 with 1 Axes>"
      ]
     },
     "metadata": {
      "needs_background": "light"
     },
     "output_type": "display_data"
    }
   ],
   "source": [
    "plt.plot([epsilon_by_frame(i) for i in range(20000)])"
   ]
  },
  {
   "cell_type": "code",
   "execution_count": 17,
   "metadata": {},
   "outputs": [],
   "source": [
    "import skimage.io\n",
    "import skimage.transform\n",
    "import cv2\n",
    "import numpy\n",
    "import traceback\n",
    "import selenium\n",
    "\n",
    "num_frames = 1400000\n",
    "batch_size = 32\n",
    "gamma      = 0.50\n",
    "frameStart = 7200\n",
    "\n",
    "\n",
    "losses = []\n",
    "all_rewards = []\n",
    "\n",
    "def getState():\n",
    "    global driver\n",
    "    \n",
    "    image = cv2.imdecode(np.frombuffer(driver.get_screenshot_as_png(), np.uint8), -1)\n",
    "    \n",
    "    width = image.shape[0]\n",
    "    height = image.shape[1]\n",
    "    \n",
    "    shrunk = skimage.transform.resize(image, [int(width/2), int(height/2)])\n",
    "    \n",
    "    return numpy.swapaxes(shrunk, 0, 2)[:3,:,:]\n",
    "    \n",
    "\n",
    "\n",
    "def runLoop():\n",
    "    global driver\n",
    "    global frameStart\n",
    "    \n",
    "    state = getState()\n",
    "    lastUrl = None\n",
    "    episode_reward = 0\n",
    "    \n",
    "    \n",
    "    try:\n",
    "        for frame_idx in range(frameStart, num_frames + 1):\n",
    "            epsilon = epsilon_by_frame(frame_idx)\n",
    "            action_index, action_coords = model.act(state, epsilon)\n",
    "\n",
    "            reward = 0\n",
    "\n",
    "            try:\n",
    "                url = driver.current_url\n",
    "\n",
    "                if url != lastUrl:\n",
    "                    lastUrl = url\n",
    "                    reward = 10\n",
    "                else:\n",
    "                    reward = 0\n",
    "\n",
    "                clickAtPos(action_coords[0], action_coords[1])\n",
    "            except selenium.common.exceptions.MoveTargetOutOfBoundsException:\n",
    "                reward = -10\n",
    "                print(frame_idx, \"failed step - bad click.\")\n",
    "            except Exception:\n",
    "                reward = -10\n",
    "                print(frame_idx, \"failed step - other\")\n",
    "                traceback.print_exc()\n",
    "\n",
    "            done = False\n",
    "            if frame_idx % 50 == 0:\n",
    "                done = True\n",
    "                \n",
    "            if frame_idx % 100 == 0:\n",
    "                torch.save(model.state_dict(), \"/home/bradley/model_test\")\n",
    "                torch.save(model.state_dict(), \"/home/bradley/model_test_2\")\n",
    "\n",
    "            replay_buffer.push(state, action_index, reward, done)\n",
    "\n",
    "            state = getState()\n",
    "            episode_reward += reward\n",
    "\n",
    "            if reward > 0:\n",
    "                print(frame_idx, reward)\n",
    "\n",
    "            if done:\n",
    "                print(frame_idx, \"reset\")\n",
    "                driver.get(\"http://localhost:3000/\")\n",
    "                time.sleep(1.5)\n",
    "                state = getState()\n",
    "                replay_buffer.startNewSequence()\n",
    "                all_rewards.append(episode_reward)\n",
    "                episode_reward = 0\n",
    "\n",
    "            if len(replay_buffer) > replay_initial:\n",
    "                loss = compute_td_loss(batch_size)\n",
    "                losses.append(loss.data.item())\n",
    "\n",
    "            if frame_idx % 100 == 0:\n",
    "                plot(frame_idx, all_rewards, losses)\n",
    "    except Exception:    \n",
    "        traceback.print_exc()\n",
    "        startDriver()\n",
    "    frameStart = frame_idx\n",
    "\n",
    "    \n",
    "    "
   ]
  },
  {
   "cell_type": "code",
   "execution_count": null,
   "metadata": {
    "scrolled": true
   },
   "outputs": [
    {
     "data": {
      "image/png": "[encoded data removed]",
      "text/plain": [
       "<Figure size 1440x360 with 2 Axes>"
      ]
     },
     "metadata": {
      "needs_background": "light"
     },
     "output_type": "display_data"
    },
    {
     "name": "stdout",
     "output_type": "stream",
     "text": [
      "8402 10\n",
      "8405 10\n",
      "8421 10\n",
      "8423 10\n",
      "8424 10\n",
      "8425 10\n",
      "8426 10\n",
      "8427 10\n"
     ]
    }
   ],
   "source": [
    "while True:\n",
    "    runLoop()"
   ]
  },
  {
   "cell_type": "code",
   "execution_count": null,
   "metadata": {},
   "outputs": [],
   "source": []
  }
 ],
 "metadata": {
  "kernelspec": {
   "display_name": "Python 3",
   "language": "python",
   "name": "python3"
  },
  "language_info": {
   "codemirror_mode": {
    "name": "ipython",
    "version": 3
   },
   "file_extension": ".py",
   "mimetype": "text/x-python",
   "name": "python",
   "nbconvert_exporter": "python",
   "pygments_lexer": "ipython3",
   "version": "3.7.5"
  }
 },
 "nbformat": 4,
 "nbformat_minor": 2
}
